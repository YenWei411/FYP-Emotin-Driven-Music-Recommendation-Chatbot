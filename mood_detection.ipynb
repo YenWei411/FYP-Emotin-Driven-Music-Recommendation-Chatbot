{
  "cells": [
    {
      "cell_type": "code",
      "execution_count": null,
      "metadata": {
        "id": "CLvN1Lagcl4B"
      },
      "outputs": [],
      "source": [
        "from google.colab import drive\n",
        "drive.mount('/content/drive')"
      ]
    },
    {
      "cell_type": "code",
      "execution_count": null,
      "metadata": {
        "id": "gjgUQ4JsYqTm"
      },
      "outputs": [],
      "source": [
        "import pandas as pd\n",
        "import numpy as np\n",
        "data = pd.read_csv('/content/drive/My Drive/WongYenWeiFYP/train.csv')\n",
        "test_data = pd.read_csv('/content/drive/My Drive/WongYenWeiFYP/test.csv')"
      ]
    },
    {
      "cell_type": "code",
      "execution_count": null,
      "metadata": {
        "id": "Sob_xPVWZung"
      },
      "outputs": [],
      "source": [
        "def stringToList(input):\n",
        "  lst = []\n",
        "  for i in input:\n",
        "    l = list(map(float, i.split(\" \")))\n",
        "    lst.append(l)\n",
        "  return lst"
      ]
    },
    {
      "cell_type": "code",
      "execution_count": null,
      "metadata": {
        "id": "Gr1T52zvZnSB"
      },
      "outputs": [],
      "source": [
        "x_train = data['pixels']\n",
        "y_train = np.array(data['emotion'])\n",
        "\n",
        "x_test = np.array(test_data['pixels'])\n",
        "\n",
        "x_train = np.array(stringToList(x_train))/255.0\n",
        "x_train = np.reshape(x_train, (28709, 48,48,1))\n",
        "x_test = np.array(stringToList(x_test))\n",
        "x_test = np.reshape(x_test, (7178,48,48,1)) /255.0"
      ]
    },
    {
      "cell_type": "code",
      "execution_count": null,
      "metadata": {
        "colab": {
          "base_uri": "https://localhost:8080/"
        },
        "id": "6i4wyB0aYXaR",
        "outputId": "e70912ca-ef42-4ccc-d44b-72b88a4f4fa5"
      },
      "outputs": [
        {
          "name": "stdout",
          "output_type": "stream",
          "text": [
            "(28709, 48, 48, 1)\n"
          ]
        }
      ],
      "source": [
        "print(x_train.shape)"
      ]
    },
    {
      "cell_type": "code",
      "execution_count": null,
      "metadata": {
        "id": "Tt1JzeB7FsOS"
      },
      "outputs": [],
      "source": [
        "import tensorflow as tf\n",
        "from tensorflow.keras.models import Sequential\n",
        "from tensorflow.keras.layers import Dense, Activation, Flatten, Conv2D, Dropout, MaxPooling2D, BatchNormalization"
      ]
    },
    {
      "cell_type": "code",
      "execution_count": null,
      "metadata": {
        "colab": {
          "background_save": true,
          "base_uri": "https://localhost:8080/"
        },
        "id": "a7WP6h2LGTp6",
        "outputId": "6790a266-3e42-44b0-ef1e-658b557db55d"
      },
      "outputs": [
        {
          "name": "stdout",
          "output_type": "stream",
          "text": [
            "Epoch 1/10\n",
            "808/808 [==============================] - 620s 766ms/step - loss: 2.0099 - sparse_categorical_accuracy: 0.2363 - val_loss: 1.5107 - val_sparse_categorical_accuracy: 0.3932\n",
            "Epoch 2/10\n",
            "808/808 [==============================] - 618s 765ms/step - loss: 1.4504 - sparse_categorical_accuracy: 0.4393 - val_loss: 1.3908 - val_sparse_categorical_accuracy: 0.4538\n",
            "Epoch 3/10\n",
            "808/808 [==============================] - 619s 766ms/step - loss: 1.2398 - sparse_categorical_accuracy: 0.5286 - val_loss: 1.4242 - val_sparse_categorical_accuracy: 0.4580\n",
            "Epoch 4/10\n",
            "808/808 [==============================] - 633s 784ms/step - loss: 1.1549 - sparse_categorical_accuracy: 0.5696 - val_loss: 1.6212 - val_sparse_categorical_accuracy: 0.4800\n",
            "Epoch 5/10\n",
            "808/808 [==============================] - 639s 791ms/step - loss: 1.0613 - sparse_categorical_accuracy: 0.6037 - val_loss: 1.3038 - val_sparse_categorical_accuracy: 0.4897\n",
            "Epoch 6/10\n",
            "808/808 [==============================] - 640s 793ms/step - loss: 0.9516 - sparse_categorical_accuracy: 0.6517 - val_loss: 1.4444 - val_sparse_categorical_accuracy: 0.4803\n",
            "Epoch 7/10\n",
            "808/808 [==============================] - 639s 791ms/step - loss: 0.8370 - sparse_categorical_accuracy: 0.6965 - val_loss: 1.1014 - val_sparse_categorical_accuracy: 0.5904\n",
            "Epoch 8/10\n",
            "808/808 [==============================] - 621s 769ms/step - loss: 0.7241 - sparse_categorical_accuracy: 0.7405 - val_loss: 1.1654 - val_sparse_categorical_accuracy: 0.5556\n",
            "Epoch 9/10\n",
            "808/808 [==============================] - 617s 764ms/step - loss: 0.5805 - sparse_categorical_accuracy: 0.7918 - val_loss: 1.1601 - val_sparse_categorical_accuracy: 0.5754\n",
            "Epoch 10/10\n",
            "808/808 [==============================] - 622s 770ms/step - loss: 0.4947 - sparse_categorical_accuracy: 0.8316 - val_loss: 1.2306 - val_sparse_categorical_accuracy: 0.5730\n"
          ]
        },
        {
          "data": {
            "text/plain": [
              "<tensorflow.python.keras.callbacks.History at 0x7fcf9e2bb940>"
            ]
          },
          "execution_count": 0,
          "metadata": {
            "tags": []
          },
          "output_type": "execute_result"
        }
      ],
      "source": [
        "model = Sequential()\n",
        "#1st convo\n",
        "model.add(Conv2D(96, (3,3), input_shape = (48,48,1)))\n",
        "model.add(Activation('relu'))\n",
        "#polling\n",
        "model.add(BatchNormalization())\n",
        "model.add(MaxPooling2D(pool_size=(2,2)))\n",
        "\n",
        "#2nd convo\n",
        "model.add(Conv2D(256, (3,3)))\n",
        "model.add(Activation('relu'))\n",
        "#polling\n",
        "model.add(BatchNormalization())\n",
        "model.add(MaxPooling2D(pool_size=(2,2)))\n",
        "\n",
        "#3rd convo\n",
        "model.add(Conv2D(384, (3,3)))\n",
        "model.add(Activation('relu'))\n",
        "#polling\n",
        "model.add(BatchNormalization())\n",
        "model.add(MaxPooling2D(pool_size=(2,2)))\n",
        "\n",
        "#4th convo\n",
        "model.add(Conv2D(256, (3,3)))\n",
        "model.add(Activation('relu'))\n",
        "#polling\n",
        "model.add(BatchNormalization())\n",
        "model.add(MaxPooling2D(pool_size=(2,2)))\n",
        "\n",
        "#passing through dense layer\n",
        "model.add(Flatten())\n",
        "\n",
        "#1st dense layer\n",
        "model.add(Dense(1024))\n",
        "model.add(Activation('relu'))\n",
        "#dropout\n",
        "model.add(BatchNormalization())\n",
        "model.add(Dropout(0.4))\n",
        "\n",
        "#2nd dense layer\n",
        "model.add(Dense(1024))\n",
        "model.add(Activation('relu'))\n",
        "#dropout\n",
        "model.add(BatchNormalization())\n",
        "model.add(Dropout(0.4))\n",
        "\n",
        "#3rd dense layer\n",
        "model.add(Dense(256))\n",
        "model.add(Activation('relu'))\n",
        "#dropout\n",
        "model.add(Dropout(0.4))\n",
        "model.add(BatchNormalization())\n",
        "model.add(Activation('relu'))\n",
        "\n",
        "#output layer\n",
        "model.add(Dense(7))\n",
        "model.add(Activation('softmax'))\n",
        "\n",
        "model.compile(loss=\"sparse_categorical_crossentropy\",\n",
        "              optimizer = \"adam\",\n",
        "              metrics = ['sparse_categorical_accuracy'])\n",
        "model.fit(x_train, y_train, batch_size=32, epochs=10, validation_split=0.1)\n",
        "\n"
      ]
    },
    {
      "cell_type": "markdown",
      "metadata": {
        "id": "BmHVHGb9_pTM"
      },
      "source": [
        "**saving the model**"
      ]
    },
    {
      "cell_type": "code",
      "execution_count": null,
      "metadata": {
        "colab": {
          "base_uri": "https://localhost:8080/",
          "height": 168
        },
        "id": "PciHkgX9jcaE",
        "outputId": "e8879202-bda1-42b5-e7a7-8e2ab77ae021"
      },
      "outputs": [
        {
          "ename": "NameError",
          "evalue": "ignored",
          "output_type": "error",
          "traceback": [
            "\u001b[0;31m---------------------------------------------------------------------------\u001b[0m",
            "\u001b[0;31mNameError\u001b[0m                                 Traceback (most recent call last)",
            "\u001b[0;32m<ipython-input-6-8e0a03955a81>\u001b[0m in \u001b[0;36m<module>\u001b[0;34m()\u001b[0m\n\u001b[0;32m----> 1\u001b[0;31m \u001b[0mmodel\u001b[0m\u001b[0;34m.\u001b[0m\u001b[0msave\u001b[0m\u001b[0;34m(\u001b[0m\u001b[0;34m'/content/drive/My Drive/projects/model.h5'\u001b[0m\u001b[0;34m)\u001b[0m\u001b[0;34m\u001b[0m\u001b[0;34m\u001b[0m\u001b[0m\n\u001b[0m",
            "\u001b[0;31mNameError\u001b[0m: name 'model' is not defined"
          ]
        }
      ],
      "source": [
        "model.save('/content/drive/My Drive/WongYenWeiFYP/emotion_model.h5')"
      ]
    },
    {
      "cell_type": "code",
      "execution_count": null,
      "metadata": {
        "id": "kjqfgjD_8pih"
      },
      "outputs": [],
      "source": [
        "from keras.models import load_model\n",
        "loaded_model = load_model('/content/drive/My Drive/WongYenWeiFYP/emmotion_model.h5')\n"
      ]
    },
    {
      "cell_type": "code",
      "execution_count": null,
      "metadata": {
        "colab": {
          "base_uri": "https://localhost:8080/"
        },
        "id": "muRpckdiLpyV",
        "outputId": "48fbfce5-a8f3-4010-cfff-068d2e157b7f"
      },
      "outputs": [
        {
          "name": "stdout",
          "output_type": "stream",
          "text": [
            "Model: \"sequential\"\n",
            "_________________________________________________________________\n",
            "Layer (type)                 Output Shape              Param #   \n",
            "=================================================================\n",
            "conv2d (Conv2D)              (None, 46, 46, 96)        960       \n",
            "_________________________________________________________________\n",
            "activation (Activation)      (None, 46, 46, 96)        0         \n",
            "_________________________________________________________________\n",
            "batch_normalization (BatchNo (None, 46, 46, 96)        384       \n",
            "_________________________________________________________________\n",
            "max_pooling2d (MaxPooling2D) (None, 23, 23, 96)        0         \n",
            "_________________________________________________________________\n",
            "conv2d_1 (Conv2D)            (None, 21, 21, 256)       221440    \n",
            "_________________________________________________________________\n",
            "activation_1 (Activation)    (None, 21, 21, 256)       0         \n",
            "_________________________________________________________________\n",
            "batch_normalization_1 (Batch (None, 21, 21, 256)       1024      \n",
            "_________________________________________________________________\n",
            "max_pooling2d_1 (MaxPooling2 (None, 10, 10, 256)       0         \n",
            "_________________________________________________________________\n",
            "conv2d_2 (Conv2D)            (None, 8, 8, 384)         885120    \n",
            "_________________________________________________________________\n",
            "activation_2 (Activation)    (None, 8, 8, 384)         0         \n",
            "_________________________________________________________________\n",
            "batch_normalization_2 (Batch (None, 8, 8, 384)         1536      \n",
            "_________________________________________________________________\n",
            "max_pooling2d_2 (MaxPooling2 (None, 4, 4, 384)         0         \n",
            "_________________________________________________________________\n",
            "conv2d_3 (Conv2D)            (None, 2, 2, 256)         884992    \n",
            "_________________________________________________________________\n",
            "activation_3 (Activation)    (None, 2, 2, 256)         0         \n",
            "_________________________________________________________________\n",
            "batch_normalization_3 (Batch (None, 2, 2, 256)         1024      \n",
            "_________________________________________________________________\n",
            "max_pooling2d_3 (MaxPooling2 (None, 1, 1, 256)         0         \n",
            "_________________________________________________________________\n",
            "flatten (Flatten)            (None, 256)               0         \n",
            "_________________________________________________________________\n",
            "dense (Dense)                (None, 1024)              263168    \n",
            "_________________________________________________________________\n",
            "activation_4 (Activation)    (None, 1024)              0         \n",
            "_________________________________________________________________\n",
            "batch_normalization_4 (Batch (None, 1024)              4096      \n",
            "_________________________________________________________________\n",
            "dropout (Dropout)            (None, 1024)              0         \n",
            "_________________________________________________________________\n",
            "dense_1 (Dense)              (None, 1024)              1049600   \n",
            "_________________________________________________________________\n",
            "activation_5 (Activation)    (None, 1024)              0         \n",
            "_________________________________________________________________\n",
            "batch_normalization_5 (Batch (None, 1024)              4096      \n",
            "_________________________________________________________________\n",
            "dropout_1 (Dropout)          (None, 1024)              0         \n",
            "_________________________________________________________________\n",
            "dense_2 (Dense)              (None, 256)               262400    \n",
            "_________________________________________________________________\n",
            "activation_6 (Activation)    (None, 256)               0         \n",
            "_________________________________________________________________\n",
            "dropout_2 (Dropout)          (None, 256)               0         \n",
            "_________________________________________________________________\n",
            "batch_normalization_6 (Batch (None, 256)               1024      \n",
            "_________________________________________________________________\n",
            "activation_7 (Activation)    (None, 256)               0         \n",
            "_________________________________________________________________\n",
            "dense_3 (Dense)              (None, 7)                 1799      \n",
            "_________________________________________________________________\n",
            "activation_8 (Activation)    (None, 7)                 0         \n",
            "=================================================================\n",
            "Total params: 3,582,663\n",
            "Trainable params: 3,576,071\n",
            "Non-trainable params: 6,592\n",
            "_________________________________________________________________\n"
          ]
        }
      ],
      "source": [
        "loaded_model.summary()"
      ]
    },
    {
      "cell_type": "code",
      "execution_count": null,
      "metadata": {
        "colab": {
          "base_uri": "https://localhost:8080/"
        },
        "id": "DPo0Nbot9rb5",
        "outputId": "82e7d8c3-3cae-4a7d-e2c6-ba64ea6a5aac"
      },
      "outputs": [
        {
          "name": "stdout",
          "output_type": "stream",
          "text": [
            "[[  0   0   0 100   0   0   0]]\n"
          ]
        }
      ],
      "source": [
        "xz =np.reshape(x_test[65], (1,48,48,1))\n",
        "xz.shape\n",
        "\n",
        "x=loaded_model.predict(xz) > .5\n",
        "print(x*100)\n",
        "\n"
      ]
    }
  ],
  "metadata": {
    "colab": {
      "collapsed_sections": [],
      "name": "mood detection.ipynb",
      "provenance": []
    },
    "kernelspec": {
      "display_name": "Python 3",
      "name": "python3"
    }
  },
  "nbformat": 4,
  "nbformat_minor": 0
}
